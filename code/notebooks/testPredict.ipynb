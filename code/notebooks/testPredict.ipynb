{
 "cells": [
  {
   "cell_type": "code",
   "execution_count": 12,
   "id": "authentic-disco",
   "metadata": {},
   "outputs": [],
   "source": [
    "import os\n",
    "import sys\n",
    "# for s in ['..']:\n",
    "#     module_path = os.path.abspath(os.path.join(s))\n",
    "path = '/Users/mihai/Documents/School/TUDelft/DeepLearning/IIC/code/'\n",
    "if path not in sys.path:\n",
    "    sys.path.append(path)"
   ]
  },
  {
   "cell_type": "code",
   "execution_count": 17,
   "id": "danish-parade",
   "metadata": {},
   "outputs": [
    {
     "data": {
      "text/plain": [
       "['/Users/mihai/Documents/School/TUDelft/DeepLearning/IIC/code/notebooks',\n",
       " '/Users/mihai/opt/anaconda3/envs/iic/lib/python37.zip',\n",
       " '/Users/mihai/opt/anaconda3/envs/iic/lib/python3.7',\n",
       " '/Users/mihai/opt/anaconda3/envs/iic/lib/python3.7/lib-dynload',\n",
       " '',\n",
       " '/Users/mihai/.local/lib/python3.7/site-packages',\n",
       " '/Users/mihai/opt/anaconda3/envs/iic/lib/python3.7/site-packages',\n",
       " '/Users/mihai/opt/anaconda3/envs/iic/lib/python3.7/site-packages/IPython/extensions',\n",
       " '/Users/mihai/.ipython',\n",
       " '/Users/mihai/Documents/School/TUDelft/DeepLearning/IIC/',\n",
       " '/Users/mihai/Documents/School/TUDelft/DeepLearning/IIC/code',\n",
       " '/Users/mihai/Documents/School/TUDelft/DeepLearning/IIC',\n",
       " '/Users/mihai/Documents/School/TUDelft/DeepLearning/IIC/code/']"
      ]
     },
     "execution_count": 17,
     "metadata": {},
     "output_type": "execute_result"
    }
   ],
   "source": [
    "sys.path"
   ]
  },
  {
   "cell_type": "code",
   "execution_count": 20,
   "id": "possible-health",
   "metadata": {},
   "outputs": [
    {
     "ename": "ModuleNotFoundError",
     "evalue": "No module named 'code.utils'; 'code' is not a package",
     "output_type": "error",
     "traceback": [
      "\u001b[0;31m---------------------------------------------------------------------------\u001b[0m",
      "\u001b[0;31mModuleNotFoundError\u001b[0m                       Traceback (most recent call last)",
      "\u001b[0;32m<ipython-input-20-d3811e16d366>\u001b[0m in \u001b[0;36m<module>\u001b[0;34m\u001b[0m\n\u001b[0;32m----> 1\u001b[0;31m \u001b[0;32mfrom\u001b[0m \u001b[0mcode\u001b[0m\u001b[0;34m.\u001b[0m\u001b[0mutils\u001b[0m\u001b[0;34m.\u001b[0m\u001b[0msegmentation\u001b[0m\u001b[0;34m.\u001b[0m\u001b[0mgeneral\u001b[0m \u001b[0;32mimport\u001b[0m \u001b[0mset_segmentation_input_channels\u001b[0m\u001b[0;34m\u001b[0m\u001b[0;34m\u001b[0m\u001b[0m\n\u001b[0m\u001b[1;32m      2\u001b[0m \u001b[0;32mfrom\u001b[0m \u001b[0mutils\u001b[0m\u001b[0;34m.\u001b[0m\u001b[0msegmentation\u001b[0m\u001b[0;34m.\u001b[0m\u001b[0mdata\u001b[0m \u001b[0;32mimport\u001b[0m \u001b[0msegmentation_create_dataloaders\u001b[0m\u001b[0;34m\u001b[0m\u001b[0;34m\u001b[0m\u001b[0m\n\u001b[1;32m      3\u001b[0m \u001b[0;32mfrom\u001b[0m \u001b[0mutils\u001b[0m\u001b[0;34m.\u001b[0m\u001b[0msegmentation\u001b[0m\u001b[0;34m.\u001b[0m\u001b[0mIID_losses\u001b[0m \u001b[0;32mimport\u001b[0m \u001b[0mIID_segmentation_loss\u001b[0m\u001b[0;34m,\u001b[0m \u001b[0mIID_segmentation_loss_uncollapsed\u001b[0m\u001b[0;34m\u001b[0m\u001b[0;34m\u001b[0m\u001b[0m\n\u001b[1;32m      4\u001b[0m \u001b[0;32mfrom\u001b[0m \u001b[0mutils\u001b[0m\u001b[0;34m.\u001b[0m\u001b[0msegmentation\u001b[0m\u001b[0;34m.\u001b[0m\u001b[0msegmentation_eval\u001b[0m \u001b[0;32mimport\u001b[0m \u001b[0msegmentation_eval\u001b[0m\u001b[0;34m\u001b[0m\u001b[0;34m\u001b[0m\u001b[0m\n\u001b[1;32m      5\u001b[0m \u001b[0;32mfrom\u001b[0m \u001b[0mutils\u001b[0m\u001b[0;34m.\u001b[0m\u001b[0mcluster\u001b[0m\u001b[0;34m.\u001b[0m\u001b[0mtransforms\u001b[0m \u001b[0;32mimport\u001b[0m \u001b[0msobel_process\u001b[0m\u001b[0;34m\u001b[0m\u001b[0;34m\u001b[0m\u001b[0m\n",
      "\u001b[0;31mModuleNotFoundError\u001b[0m: No module named 'code.utils'; 'code' is not a package"
     ]
    }
   ],
   "source": [
    "from code.utils.segmentation.general import set_segmentation_input_channels\n",
    "from utils.segmentation.data import segmentation_create_dataloaders\n",
    "from utils.segmentation.IID_losses import IID_segmentation_loss, IID_segmentation_loss_uncollapsed\n",
    "from utils.segmentation.segmentation_eval import segmentation_eval\n",
    "from utils.cluster.transforms import sobel_process\n",
    "from utils.cluster.general import config_to_str, get_opt, update_lr, nice\n",
    "import archs as archs"
   ]
  },
  {
   "cell_type": "code",
   "execution_count": 26,
   "id": "active-resistance",
   "metadata": {},
   "outputs": [
    {
     "ename": "ModuleNotFoundError",
     "evalue": "No module named 'code.utils'; 'code' is not a package",
     "output_type": "error",
     "traceback": [
      "\u001b[0;31m---------------------------------------------------------------------------\u001b[0m",
      "\u001b[0;31mModuleNotFoundError\u001b[0m                       Traceback (most recent call last)",
      "\u001b[0;32m<ipython-input-26-f243d50b1bf5>\u001b[0m in \u001b[0;36m<module>\u001b[0;34m\u001b[0m\n\u001b[0;32m----> 1\u001b[0;31m \u001b[0;32mfrom\u001b[0m \u001b[0mcode\u001b[0m\u001b[0;34m.\u001b[0m\u001b[0mutils\u001b[0m\u001b[0;34m.\u001b[0m\u001b[0msegmentation\u001b[0m\u001b[0;34m.\u001b[0m\u001b[0mdata\u001b[0m \u001b[0;32mimport\u001b[0m \u001b[0msegmentation_create_dataloaders\u001b[0m\u001b[0;34m\u001b[0m\u001b[0;34m\u001b[0m\u001b[0m\n\u001b[0m",
      "\u001b[0;31mModuleNotFoundError\u001b[0m: No module named 'code.utils'; 'code' is not a package"
     ]
    }
   ],
   "source": [
    "from code.utils.segmentation.data import segmentation_create_dataloaders"
   ]
  }
 ],
 "metadata": {
  "kernelspec": {
   "display_name": "Python 3",
   "language": "python",
   "name": "python3"
  },
  "language_info": {
   "codemirror_mode": {
    "name": "ipython",
    "version": 3
   },
   "file_extension": ".py",
   "mimetype": "text/x-python",
   "name": "python",
   "nbconvert_exporter": "python",
   "pygments_lexer": "ipython3",
   "version": "3.7.10"
  }
 },
 "nbformat": 4,
 "nbformat_minor": 5
}
